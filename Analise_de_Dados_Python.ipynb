{
  "nbformat": 4,
  "nbformat_minor": 0,
  "metadata": {
    "colab": {
      "name": "Analise de Dados Python.ipynb",
      "provenance": [],
      "collapsed_sections": [],
      "include_colab_link": true
    },
    "kernelspec": {
      "name": "python3",
      "display_name": "Python 3"
    }
  },
  "cells": [
    {
      "cell_type": "markdown",
      "metadata": {
        "id": "view-in-github",
        "colab_type": "text"
      },
      "source": [
        "<a href=\"https://colab.research.google.com/github/guilhermeavila77/analise_cliente_cartao/blob/main/Analise_de_Dados_Python.ipynb\" target=\"_parent\"><img src=\"https://colab.research.google.com/assets/colab-badge.svg\" alt=\"Open In Colab\"/></a>"
      ]
    },
    {
      "cell_type": "markdown",
      "metadata": {
        "id": "A4VwUp4-f8KN"
      },
      "source": [
        "# Desafio: \n",
        "\n",
        "Você trabalha em uma grande empresa de Cartão de Crédito e o diretor da empresa percebeu que o número de clientes que cancelam seus cartões tem aumentado significativamente, causando prejuízos enormes para a empresa\n",
        "\n",
        "O que fazer para evitar isso? Como saber as pessoas que têm maior tendência a cancelar o cartão?\n",
        "\n",
        "# O que temos:\n",
        "\n",
        "Temos 1 base de dados com informações dos clientes, tanto clientes atuais quanto clientes que cancelaram o cartão\n",
        "\n",
        "Download da Base de Dados: Botão na página\n",
        "\n",
        "Referência: https://www.kaggle.com/sakshigoyal7/credit-card-customers"
      ]
    },
    {
      "cell_type": "markdown",
      "source": [
        "- Passo 1: Importar a base de dados\n",
        "- Passo 2: Visualizar e tratar essa base de dados\n",
        "- Passo 3: Panorama geral da base de dados\n",
        "- Passo 4:  Construir uma analise\n",
        " - identificar os principais motivos dos clientes cancelarem o cartão"
      ],
      "metadata": {
        "id": "MZQVNZ0guJnf"
      }
    },
    {
      "cell_type": "code",
      "source": [
        "from google.colab import drive\n",
        "drive.mount('/content/drive')"
      ],
      "metadata": {
        "id": "yoe6Jah-aUHH",
        "outputId": "d552b82e-963a-4a22-a5c3-93b0798fa72a",
        "colab": {
          "base_uri": "https://localhost:8080/"
        }
      },
      "execution_count": 1,
      "outputs": [
        {
          "output_type": "stream",
          "name": "stdout",
          "text": [
            "Mounted at /content/drive\n"
          ]
        }
      ]
    },
    {
      "cell_type": "code",
      "metadata": {
        "id": "P6lYkZPG-QBX"
      },
      "source": [
        "import pandas as pd\n",
        "\n",
        "tabela = pd.read_csv(\"/content/drive/MyDrive/Curso analise de dados/ClientesBanco.csv\", encoding=\"latin1\")\n",
        "tabela = tabela.drop(\"CLIENTNUM\", axis=1)\n",
        "display(tabela)"
      ],
      "execution_count": null,
      "outputs": []
    },
    {
      "cell_type": "markdown",
      "source": [
        "# tratar os valores vazios e exibir um resumo das colunas"
      ],
      "metadata": {
        "id": "xXTicvgUfO94"
      }
    },
    {
      "cell_type": "code",
      "source": [
        "tabela = tabela.dropna()\n",
        "display(tabela.info())\n",
        "\n",
        "display(tabela.describe().round(1))"
      ],
      "metadata": {
        "id": "DUKAKXQB0_kn"
      },
      "execution_count": null,
      "outputs": []
    },
    {
      "cell_type": "markdown",
      "source": [
        "# Avaliar a divisão entre clientes e cancelados"
      ],
      "metadata": {
        "id": "IU4-1U_Vfbai"
      }
    },
    {
      "cell_type": "code",
      "source": [
        "quant_categoria = tabela[\"Categoria\"].value_counts()\n",
        "display(quant_categoria)\n",
        "\n",
        "quant_categoria_perc = tabela[\"Categoria\"].value_counts(normalize=True)\n",
        "display(quant_categoria_perc)"
      ],
      "metadata": {
        "id": "OHnNCAFPf63f"
      },
      "execution_count": null,
      "outputs": []
    },
    {
      "cell_type": "markdown",
      "source": [
        "# Formas de descobrir o motivo de cancelamento\n",
        " - Visualizar a comparação entre clientes e cancelados em cada uma das colunas"
      ],
      "metadata": {
        "id": "QpbsGoH_iLeX"
      }
    },
    {
      "cell_type": "code",
      "source": [
        "import plotly.express as px\n",
        "\n",
        "for coluna in tabela:\n",
        "  grafico = px.histogram(tabela, x=coluna, color=\"Categoria\")\n",
        "  grafico.show()"
      ],
      "metadata": {
        "id": "H2Dpu9ICii78"
      },
      "execution_count": null,
      "outputs": []
    },
    {
      "cell_type": "markdown",
      "source": [
        ""
      ],
      "metadata": {
        "id": "lW_c__sfsIIy"
      }
    }
  ]
}